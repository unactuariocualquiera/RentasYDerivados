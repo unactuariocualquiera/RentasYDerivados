{
  "nbformat": 4,
  "nbformat_minor": 0,
  "metadata": {
    "colab": {
      "name": "derivados01.ipynb",
      "provenance": [],
      "include_colab_link": true
    },
    "kernelspec": {
      "name": "python3",
      "display_name": "Python 3"
    },
    "language_info": {
      "name": "python"
    }
  },
  "cells": [
    {
      "cell_type": "markdown",
      "metadata": {
        "id": "view-in-github",
        "colab_type": "text"
      },
      "source": [
        "<a href=\"https://colab.research.google.com/github/unactuariocualquiera/RentasYDerivados/blob/main/derivados01.ipynb\" target=\"_parent\"><img src=\"https://colab.research.google.com/assets/colab-badge.svg\" alt=\"Open In Colab\"/></a>"
      ]
    },
    {
      "cell_type": "markdown",
      "source": [
        "# Programación en Python"
      ],
      "metadata": {
        "id": "-V3kb15V02sg"
      }
    },
    {
      "cell_type": "code",
      "execution_count": null,
      "metadata": {
        "colab": {
          "base_uri": "https://localhost:8080/"
        },
        "id": "fXjIz4tN0rdU",
        "outputId": "b6efac27-869c-43c6-b042-943a6caca63d"
      },
      "outputs": [
        {
          "output_type": "stream",
          "name": "stdout",
          "text": [
            "Bienvenidos al mundo de las Finanzas\n"
          ]
        }
      ],
      "source": [
        "print(\"Bienvenidos al mundo de las Finanzas\")"
      ]
    },
    {
      "cell_type": "markdown",
      "source": [
        "## VAN y TIR\n",
        "* VAN = NPV\n",
        "* TIR = IRR"
      ],
      "metadata": {
        "id": "2XO4D6iv7eB7"
      }
    },
    {
      "cell_type": "code",
      "source": [
        "pip install numpy-financial"
      ],
      "metadata": {
        "colab": {
          "base_uri": "https://localhost:8080/"
        },
        "id": "AQENw64P9oV5",
        "outputId": "9f5e148e-3326-477e-9a05-94216a607fb8"
      },
      "execution_count": null,
      "outputs": [
        {
          "output_type": "stream",
          "name": "stdout",
          "text": [
            "Requirement already satisfied: numpy-financial in /usr/local/lib/python3.7/dist-packages (1.0.0)\n",
            "Requirement already satisfied: numpy>=1.15 in /usr/local/lib/python3.7/dist-packages (from numpy-financial) (1.19.5)\n"
          ]
        }
      ]
    },
    {
      "cell_type": "code",
      "source": [
        "import numpy_financial as npf\n",
        "\n",
        "cash_flows = [-600_000, 100_000, 150_000, 200_000, 250_000, 300_000]\n",
        "discount_rate = 0.1\n",
        "\n",
        "van = npf.npv(discount_rate, cash_flows)\n",
        "print(f\"Net Present Value ({discount_rate:.2%}) = {van:,.2f} €\")"
      ],
      "metadata": {
        "colab": {
          "base_uri": "https://localhost:8080/"
        },
        "id": "7Z0MGAhe_npY",
        "outputId": "f842edde-0f61-401f-e85e-6d62f39cb2b3"
      },
      "execution_count": null,
      "outputs": [
        {
          "output_type": "stream",
          "name": "stdout",
          "text": [
            "Net Present Value (10.00%) = 122,168.75 €\n"
          ]
        }
      ]
    },
    {
      "cell_type": "code",
      "source": [
        "tir = npf.irr(cash_flows)\n",
        "print(f\"Internal rate of return: {tir:.2%}\")"
      ],
      "metadata": {
        "colab": {
          "base_uri": "https://localhost:8080/"
        },
        "id": "J3Q-2rYw9c7i",
        "outputId": "aabee2f1-8151-4576-a3e1-c4e9242ff3e0"
      },
      "execution_count": null,
      "outputs": [
        {
          "output_type": "stream",
          "name": "stdout",
          "text": [
            "Internal rate of return: 16.40%\n"
          ]
        }
      ]
    },
    {
      "cell_type": "code",
      "source": [
        "initialInvestment = cash_flows[0]       # guardamos en una variable el desembolso inicial\n",
        "cash_flows[0] = 0                       # en la lista de cash flows hacemos cero el desembolso inicial\n",
        "van = initialInvestment + npf.npv(discount_rate, cash_flows)\n",
        "print(van)                              # obtenemos el van esperado, ahora sin formato"
      ],
      "metadata": {
        "colab": {
          "base_uri": "https://localhost:8080/"
        },
        "id": "3TUW8OI9MxDp",
        "outputId": "67ecb766-d870-40b0-ff5e-eef3d57fcda5"
      },
      "execution_count": null,
      "outputs": [
        {
          "output_type": "stream",
          "name": "stdout",
          "text": [
            "122168.75399718084\n"
          ]
        }
      ]
    },
    {
      "cell_type": "markdown",
      "source": [
        "### Programando el VAN\n",
        "* Valor Actual Neto\n",
        "* $A$ = Desembolso inicial\n",
        "* $Q_t$ = Flujos de caja desde $t=1$ hasta $t=n$\n",
        "* $k$ = tasa de descuento\n",
        "\n",
        "$$ \\mathrm{VAN} = -A + \\sum_{t=1}^n{\\frac{Q_t}{(1+k)^t}} $$"
      ],
      "metadata": {
        "id": "iQujYc0kWK9I"
      }
    },
    {
      "cell_type": "code",
      "source": [
        "def van(tasa, flujos):\n",
        "    total = 0\n",
        "    for i, flujo in enumerate(flujos):\n",
        "        total += flujo / (1 + tasa)**(i)\n",
        "    return total\n",
        "\n",
        "tasa = 0.1\n",
        "flujos = [-600_000, 100_000, 150_000, 200_000, 250_000, 300_000]\n",
        "print(f\"VAN = {van(tasa, flujos):,.2f} €\")"
      ],
      "metadata": {
        "colab": {
          "base_uri": "https://localhost:8080/"
        },
        "id": "97qYQEUjPInj",
        "outputId": "f291d619-1470-405e-98e3-d9db01197bf4"
      },
      "execution_count": null,
      "outputs": [
        {
          "output_type": "stream",
          "name": "stdout",
          "text": [
            "VAN = 122,168.75 €\n"
          ]
        }
      ]
    },
    {
      "cell_type": "markdown",
      "source": [
        "## Función Pago (pmt)\n",
        "* npf.pmt(rate, nper, pv, fv, when = ‘end’)\n",
        "* fv es optativo, por defecto es 0\n",
        "* when es optativo, por defecto es 'end', pagos a final de periodo, pospagable\n",
        "* Calcular el pago mensual periódico necesario para amortizar un préstamo de 350.000 €, a 20 años, al 6% TIN (Tipo de Interés Nominal)\n",
        "* con Excel: =PAGO(6%/12;20*12;-350000)"
      ],
      "metadata": {
        "id": "LD16NjKFRYL9"
      }
    },
    {
      "cell_type": "code",
      "source": [
        "import numpy_financial as npf\n",
        "\n",
        "pago = npf.pmt(0.06/12, 20 * 12, 350_000)\n",
        "\n",
        "# Here fv = 0 ; Also Default value of fv = 0\n",
        "print(f\"Pago mensual: {-pago:,.2f} €\" )\n"
      ],
      "metadata": {
        "colab": {
          "base_uri": "https://localhost:8080/"
        },
        "id": "rnlAao1HP2IN",
        "outputId": "6a7b958e-3405-4735-c459-d03c1681a7ac"
      },
      "execution_count": null,
      "outputs": [
        {
          "output_type": "stream",
          "name": "stdout",
          "text": [
            "Pago mensual: 2,507.51 €\n"
          ]
        }
      ]
    }
  ]
}