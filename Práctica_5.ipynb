{
  "nbformat": 4,
  "nbformat_minor": 0,
  "metadata": {
    "colab": {
      "name": "Práctica 5.ipynb",
      "provenance": [],
      "authorship_tag": "ABX9TyM/Xep/Zy6qKJ+m+qvE7qb/",
      "include_colab_link": true
    },
    "kernelspec": {
      "name": "python3",
      "display_name": "Python 3"
    },
    "language_info": {
      "name": "python"
    }
  },
  "cells": [
    {
      "cell_type": "markdown",
      "metadata": {
        "id": "view-in-github",
        "colab_type": "text"
      },
      "source": [
        "<a href=\"https://colab.research.google.com/github/unactuariocualquiera/RentasYDerivados/blob/main/Pr%C3%A1ctica_5.ipynb\" target=\"_parent\"><img src=\"https://colab.research.google.com/assets/colab-badge.svg\" alt=\"Open In Colab\"/></a>"
      ]
    },
    {
      "cell_type": "code",
      "source": [
        ""
      ],
      "metadata": {
        "id": "D5LNAka9UTVo"
      },
      "execution_count": null,
      "outputs": []
    },
    {
      "cell_type": "markdown",
      "source": [
        "\n",
        "\n",
        "> # **PARIDAD PUT - CALL**\n",
        "\n",
        "*Práctica 5*\n",
        "\n",
        "### Vamos a estudiar el caso en el que no se cumpla la fórmula de la paridad Put-Call al comparar los valores teóricos con los del mercado y ver la posibilidad de que se den oportunidades de arbitraje.\n",
        "\n"
      ],
      "metadata": {
        "id": "pAi2DoMIURkM"
      }
    },
    {
      "cell_type": "markdown",
      "source": [
        "![image.png](data:image/png;base64,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)"
      ],
      "metadata": {
        "id": "wGnrELJkVf2K"
      }
    },
    {
      "cell_type": "code",
      "execution_count": 19,
      "metadata": {
        "colab": {
          "base_uri": "https://localhost:8080/"
        },
        "id": "aTt2aq80UMJ1",
        "outputId": "57523066-3fb7-409a-b5a0-97699726b7f6"
      },
      "outputs": [
        {
          "output_type": "execute_result",
          "data": {
            "text/plain": [
              "False"
            ]
          },
          "metadata": {},
          "execution_count": 19
        }
      ],
      "source": [
        "#Importamos librerías necesarias:\n",
        "import random\n",
        "import math\n",
        "import numpy\n",
        "\n",
        "#P = precio de la opción put en el mercado\n",
        "#C_teórico = precio que la opción call debería tener\n",
        "#C = precio que la opción call tiene en realidad en el mercado\n",
        "\n",
        "#Definimos variables:\n",
        "S = 60 #Precio Actual\n",
        "E = 110 #PE Precio ejercicio\n",
        "P = 12 #Put\n",
        "t = 1 #Años\n",
        "\n",
        "Bonot = 110\n",
        "Bono = Bonot /(1+i)** t\n",
        "i = 0.1 #Tasa de interés anual\n",
        "r = numpy.log(1+i) #Tasa de interés instantánea\n",
        "CMercado = 10 \n",
        "C_teórico = S + P - E * (math.exp(-r*t)) #Cálculamos el CTeórico\n",
        "\n",
        "Sn = 111\n",
        "\n",
        "Call = CMercado\n",
        "BonoX = Bono\n",
        "Acción = S\n",
        "Put = P\n",
        "\n",
        "Call + BonoX == Acción + Put\n",
        "\n"
      ]
    },
    {
      "cell_type": "code",
      "source": [
        "Izq = Call + BonoX\n",
        "Dch = Acción + Put\n",
        "\n",
        "print(\"Call + Bono = \", Izq)\n",
        "print(\"Acción + Put = \", Dch)\n",
        "\n",
        "Diferencia = Izq - Dch\n",
        "\n",
        "if Diferencia != 0:\n",
        "  print(\"Hay opciones de arbitraje\")\n",
        "\n",
        "if Izq<Dch:\n",
        "  print(\"Comprar Call y Vender Put\")\n",
        "else:\n",
        "  print(\"Comprar Put y Vender Call\")\n",
        "\n"
      ],
      "metadata": {
        "colab": {
          "base_uri": "https://localhost:8080/"
        },
        "id": "KjqMA-NpVwGS",
        "outputId": "545647b0-570c-46f4-d7d1-22890d4879bb"
      },
      "execution_count": 27,
      "outputs": [
        {
          "output_type": "stream",
          "name": "stdout",
          "text": [
            "Call + Bono =  109.99999999999999\n",
            "Acción + Put =  72\n",
            "Hay opciones de arbitraje\n",
            "Comprar Put y Vender Call\n"
          ]
        }
      ]
    }
  ]
}