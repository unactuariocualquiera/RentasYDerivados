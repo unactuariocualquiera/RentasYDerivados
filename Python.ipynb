{
  "nbformat": 4,
  "nbformat_minor": 0,
  "metadata": {
    "colab": {
      "name": "Untitled3.ipynb",
      "provenance": [],
      "authorship_tag": "ABX9TyMb6mVORIU+Yekk9OAMDFzM",
      "include_colab_link": true
    },
    "kernelspec": {
      "name": "python3",
      "display_name": "Python 3"
    },
    "language_info": {
      "name": "python"
    }
  },
  "cells": [
    {
      "cell_type": "markdown",
      "metadata": {
        "id": "view-in-github",
        "colab_type": "text"
      },
      "source": [
        "<a href=\"https://colab.research.google.com/github/unactuariocualquiera/RentasYDerivados/blob/main/Python.ipynb\" target=\"_parent\"><img src=\"https://colab.research.google.com/assets/colab-badge.svg\" alt=\"Open In Colab\"/></a>"
      ]
    },
    {
      "cell_type": "code",
      "execution_count": null,
      "metadata": {
        "id": "o4BeDrMYvjoQ"
      },
      "outputs": [],
      "source": [
        ""
      ]
    },
    {
      "cell_type": "markdown",
      "source": [
        "Curso Python"
      ],
      "metadata": {
        "id": "t1RxZQ08vtMr"
      }
    },
    {
      "cell_type": "markdown",
      "source": [
        "Introducción:\n",
        "\n"
      ],
      "metadata": {
        "id": "PpXAFHV7vvXR"
      }
    }
  ]
}