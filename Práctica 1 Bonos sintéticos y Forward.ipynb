{
  "nbformat": 4,
  "nbformat_minor": 0,
  "metadata": {
    "colab": {
      "name": "Untitled0.ipynb",
      "provenance": [],
      "authorship_tag": "ABX9TyOtHtdP19XPWOOQc04mHoI4",
      "include_colab_link": true
    },
    "kernelspec": {
      "name": "python3",
      "display_name": "Python 3"
    },
    "language_info": {
      "name": "python"
    }
  },
  "cells": [
    {
      "cell_type": "markdown",
      "metadata": {
        "id": "view-in-github",
        "colab_type": "text"
      },
      "source": [
        "<a href=\"https://colab.research.google.com/github/unactuariocualquiera/RentasYDerivados/blob/main/Pr%C3%A1ctica%201%20Bonos%20sint%C3%A9ticos%20y%20Forward.ipynb\" target=\"_parent\"><img src=\"https://colab.research.google.com/assets/colab-badge.svg\" alt=\"Open In Colab\"/></a>"
      ]
    },
    {
      "cell_type": "code",
      "execution_count": null,
      "metadata": {
        "id": "hijS7QIlEWGL"
      },
      "outputs": [],
      "source": [
        ""
      ]
    },
    {
      "cell_type": "markdown",
      "source": [
        "# Bonos sintéticos y forward\n",
        "\n",
        "## Práctica 1\n",
        "### Sergio Sosa Gómez\n",
        "### Máster actuariales URJC"
      ],
      "metadata": {
        "id": "vZhHP3hREZlI"
      }
    },
    {
      "cell_type": "markdown",
      "source": [
        ""
      ],
      "metadata": {
        "id": "oAAhaZoeEifY"
      }
    }
  ]
}