{
  "nbformat": 4,
  "nbformat_minor": 0,
  "metadata": {
    "colab": {
      "name": "Untitled0.ipynb",
      "provenance": [],
      "include_colab_link": true
    },
    "kernelspec": {
      "name": "python3",
      "display_name": "Python 3"
    },
    "language_info": {
      "name": "python"
    }
  },
  "cells": [
    {
      "cell_type": "markdown",
      "metadata": {
        "id": "view-in-github",
        "colab_type": "text"
      },
      "source": [
        "<a href=\"https://colab.research.google.com/github/unactuariocualquiera/RentasYDerivados/blob/main/Pr%C3%A1ctica%201%20Bonos%20sint%C3%A9ticos%20y%20Forward.ipynb\" target=\"_parent\"><img src=\"https://colab.research.google.com/assets/colab-badge.svg\" alt=\"Open In Colab\"/></a>"
      ]
    },
    {
      "cell_type": "code",
      "execution_count": null,
      "metadata": {
        "id": "hijS7QIlEWGL"
      },
      "outputs": [],
      "source": [
        ""
      ]
    },
    {
      "cell_type": "markdown",
      "source": [
        "# Bonos sintéticos y forward\n",
        "\n",
        "## Práctica 1\n",
        "### Máster actuariales URJC"
      ],
      "metadata": {
        "id": "vZhHP3hREZlI"
      }
    },
    {
      "cell_type": "markdown",
      "source": [
        "En esta prática vamos a calcular el precio de un bono, del cual conocemos sus flujos de caja, su duración y su periodo de maduración:\n",
        "\n",
        "Nominal 1.000 €\n",
        "Cupón anual 10%\n",
        "Madura al quinto año\n",
        "\n",
        "Desconocemos la TIR, por lo que el primer paso será calcular la TIR"
      ],
      "metadata": {
        "id": "oAAhaZoeEifY"
      }
    },
    {
      "cell_type": "markdown",
      "source": [
        "Cálculo TIR del Bono"
      ],
      "metadata": {
        "id": "TjnXkfaQFHmf"
      }
    },
    {
      "cell_type": "code",
      "source": [
        "pip install numpy-financial"
      ],
      "metadata": {
        "colab": {
          "base_uri": "https://localhost:8080/"
        },
        "id": "BBC0paLEHe_b",
        "outputId": "c6b710ae-a69d-4ba5-82e4-e7382cb73140"
      },
      "execution_count": 2,
      "outputs": [
        {
          "output_type": "stream",
          "name": "stdout",
          "text": [
            "Collecting numpy-financial\n",
            "  Downloading numpy_financial-1.0.0-py3-none-any.whl (14 kB)\n",
            "Requirement already satisfied: numpy>=1.15 in /usr/local/lib/python3.7/dist-packages (from numpy-financial) (1.21.5)\n",
            "Installing collected packages: numpy-financial\n",
            "Successfully installed numpy-financial-1.0.0\n"
          ]
        }
      ]
    },
    {
      "cell_type": "code",
      "source": [
        "import numpy_financial as npf\n",
        "\n",
        "\n",
        "#Incluimos los datos del bono\n",
        "bonoA = [-96,100,0,0,0,0]\n",
        "bonoB = [-545,50,550,0,0,0]\n",
        "bonoC = [-1030,70,70,1070,0,0]\n",
        "bonoD = [-2030,150,150,150,2150,0]\n",
        "bonoE = [-3920,300,300,300,300,4300]\n",
        "bonoX = [0,100,100,100,100,1100]\n",
        "\n",
        "\n",
        "#Cálculo TIR\n",
        "tirA = npf.irr(bonoA)\n",
        "tirB = npf.irr(bonoB)\n",
        "tirC = npf.irr(bonoC)\n",
        "tirD = npf.irr(bonoD)\n",
        "tirE = npf.irr(bonoE)\n",
        "\n",
        "\n",
        "#Visualizamos los datos\n",
        "print(f\"LA tir del bonoA es: {tirA:.2%}\")\n",
        "print(f\"LA tir del bonoB es: {tirB:.2%}\")\n",
        "print(f\"LA tir del bonoC es: {tirC:.2%}\")\n",
        "print(f\"LA tir del bonoD es: {tirD:.2%}\")\n",
        "print(f\"LA tir del bonoE es: {tirE:.2%}\")\n",
        "\n",
        "\n",
        "#Calculamos ETTI\n",
        "etti = [tirA,0,0,0,0]\n",
        "\n",
        "\n",
        "def calculo_etti(bono, etti):\n",
        "    n = [i for i, e in enumerate(bono) if e != 0][-1]\n",
        "    ultimo_flujo = bono[n]\n",
        "    precio = -bono[0]\n",
        "    fcid = 0\n",
        "    for i in range(1,n):\n",
        "        fcid += bono[i] / (1+etti[i-1])**i\n",
        "    return (ultimo_flujo / (precio - fcid))**(1/n)-1\n",
        "\n",
        "\n",
        "etti[1] = calculo_etti(bonoB, etti)\n",
        "etti[2] = calculo_etti(bonoC, etti)\n",
        "etti[3] = calculo_etti(bonoD, etti)\n",
        "etti[4] = calculo_etti(bonoE, etti)\n",
        "print(\"El valor de las etti es:\", etti)\n",
        "\n",
        "#Calculamos Bono X\n",
        "\n",
        "\n",
        "def calcular_precio(flujos, interés):\n",
        "    precio = 0\n",
        "    for i in range(1, len(flujos)):\n",
        "        precio += flujos[i] * (1+interés[i-1])**-i\n",
        "    return precio\n",
        "\n",
        "precioX= calcular_precio(bonoX, etti)\n",
        "print(f\"el precio del bonoX es {precioX} Euros\")\n",
        "\n",
        "bonoX[0]= -precioX\n",
        "print(bonoX)\n",
        "#calculamos la TIR del BonoX\n",
        "tirX = npf.irr(bonoX)\n",
        "print(f\"LA tir del bonoX es: {tirX:.2%}\")"
      ],
      "metadata": {
        "colab": {
          "base_uri": "https://localhost:8080/"
        },
        "id": "FzZBFCUmIBoA",
        "outputId": "b4236b76-9fde-44f1-9b28-54d8b92ec5c1"
      },
      "execution_count": 4,
      "outputs": [
        {
          "output_type": "stream",
          "name": "stdout",
          "text": [
            "LA tir del bonoA es: 4.17%\n",
            "LA tir del bonoB es: 5.15%\n",
            "LA tir del bonoC es: 5.88%\n",
            "LA tir del bonoD es: 7.06%\n",
            "LA tir del bonoE es: 8.00%\n",
            "El valor de las etti es: [0.04166666666666674, 0.05196950480239937, 0.05954698846803952, 0.07260473284719349, 0.08331184471944098]\n",
            "el precio del bonoX es 1083.2522022742555 Euros\n",
            "[-1083.2522022742555, 100, 100, 100, 100, 1100]\n",
            "LA tir del bonoX es: 7.92%\n"
          ]
        }
      ]
    }
  ]
}