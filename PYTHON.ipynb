{
  "nbformat": 4,
  "nbformat_minor": 0,
  "metadata": {
    "colab": {
      "name": "PYTHON.ipynb",
      "provenance": [],
      "collapsed_sections": [],
      "authorship_tag": "ABX9TyMdAdfov9EpjrFLOV0T+gev",
      "include_colab_link": true
    },
    "kernelspec": {
      "name": "python3",
      "display_name": "Python 3"
    },
    "language_info": {
      "name": "python"
    }
  },
  "cells": [
    {
      "cell_type": "markdown",
      "metadata": {
        "id": "view-in-github",
        "colab_type": "text"
      },
      "source": [
        "<a href=\"https://colab.research.google.com/github/unactuariocualquiera/RentasYDerivados/blob/main/PYTHON.ipynb\" target=\"_parent\"><img src=\"https://colab.research.google.com/assets/colab-badge.svg\" alt=\"Open In Colab\"/></a>"
      ]
    },
    {
      "cell_type": "markdown",
      "source": [
        "# ***Curso Python***"
      ],
      "metadata": {
        "id": "t1RxZQ08vtMr"
      }
    },
    {
      "cell_type": "markdown",
      "source": [
        "# **Introducción:**\n",
        "\n",
        "  Marcas en pantalla - Programa ZoomIt\n",
        "  Grabación de video - Programa Camtasia Studio\n",
        "\n",
        "IDE (entorno de desarrollo) para proyectos grandes\n",
        "\n",
        "Lenguaje de bajo nivel se refiere a lenguaje que mas se asemeja al de una máquina que se acerca a 1 y 0... Lenguaje de alto nivel se refiere a aquel que se asemeja mas al texto de lenguaje normal.\n",
        "\n",
        "Python es un lenguaje de muy alto nivel. \"Si sabes inglés sabes programar en Python\"\n",
        "\n",
        "Tipado dinámico y fuerte. Fuerte es que hace distinción muy clara entre los distintos tipos que tiene una variable. Dinámico quiere decir que se establece el tipo de forma dinámica (no es necesario declarar la variable antes como en C++)\n",
        "\n",
        "Lenguaje orientado a objetos: constructor, herencia múltiple,...\n",
        "\n",
        "Open Source : Codigo abierto\n",
        "\n",
        "Instalación: python.org/downloads\n",
        "2Gb ram\n",
        "Espacio disco 10gb \n",
        "En la instalacion trae un IDLE que es un entorno de desarrollador que al abrirlo vemos que es una consola al fin y al cabo. \n",
        "Otros entornos:\n",
        "  Eclipse\n",
        "  Notepad++\n",
        "  SublimeText3\n",
        "\n",
        "\n"
      ],
      "metadata": {
        "id": "PpXAFHV7vvXR"
      }
    },
    {
      "cell_type": "markdown",
      "source": [
        "# **SINTÁXIS BASICA**\n",
        "\n",
        "Abrimos el IDLE\n",
        "Se abre una ventana de shell\n",
        "\n",
        "Lo primero que vemos es >>> (prompt) donde introduciremos las instrucciones\n"
      ],
      "metadata": {
        "id": "c7X6Od531g1z"
      }
    },
    {
      "cell_type": "code",
      "source": [
        "print(\"Hola mundo\")"
      ],
      "metadata": {
        "colab": {
          "base_uri": "https://localhost:8080/"
        },
        "id": "aVJjaXy42P66",
        "outputId": "430447cc-bc51-436b-c048-7651bafc9a0d"
      },
      "execution_count": 1,
      "outputs": [
        {
          "output_type": "stream",
          "name": "stdout",
          "text": [
            "Hola mundo\n"
          ]
        }
      ]
    },
    {
      "cell_type": "markdown",
      "source": [
        "Cada línea de código es una instrucción y cada instrucción debe ir en una línea\n",
        "Si lo queremos todo en una misma línea usaremos ; pero es desaconsejado por legibilidad\n",
        "\n",
        "Los comentarios los introducimos con #\n",
        "\n",
        "Con una barra invertida \\ hacemos un salto en la línea dentro de la consola de Python\n",
        "\n",
        "Identación : tabulador para declarar bucles o condicionales para saber que va dentro de la declaración, tiene una identación\n",
        "\n",
        "En vez de la consola, descargaremos sublime text 3\n",
        "Hay que prepararlo para desarrollar en Python\n",
        "\n",
        "  Tools -> Command Palette -> Install Package Control (escrito)\n",
        "  Despues del mensaje\n",
        "  Tools -> Command Palette -> Package control : install package \n",
        "  En el mismo command palette: sublimeREPL (ejecutar interprete python...)\n",
        "  Tools -> SublimeREPL -> Python -> Python\n",
        "\n",
        "\n",
        "\n",
        "*Tipos de datos de Python:*\n",
        "  - Numéricos \n",
        "      Enteros (int)\n",
        "      Coma flotante (float), decimales\n",
        "      Complejos\n",
        "\n",
        "  - Textos (deben ir entre comillas)\n",
        "\n",
        "  - Booleanos\n",
        "      True\n",
        "      False\n",
        "\n",
        "\n",
        "*Operadores:*\n",
        "- Aritméticos\n",
        "  \n",
        "  Suma +\n",
        "  Resta -\n",
        "  Multiplicación *\n",
        "  División /\n",
        "  Módulo %\n",
        "  Exponente **\n",
        "  División entera //\n",
        "\n",
        "- Comparación\n",
        "\n",
        "  Igual que ==\n",
        "  Diferente que !=\n",
        "  Mayor que >\n",
        "  Menor que <\n",
        "  Mayor o igual que >=\n",
        "  Menor o igual que <=\n",
        "\n",
        "- Lógicos\n",
        "\n",
        "  And\n",
        "  Or \n",
        "  Not\n",
        "\n",
        "- Asignación\n",
        "\n",
        "  Igual =\n",
        "  Incremento +=\n",
        "  Decremento -=\n",
        "  *=\n",
        "  /=\n",
        "  %=\n",
        "  **=\n",
        "  //=\n",
        "\n",
        "- Especiales\n",
        "\n",
        "  Is\n",
        "  Is not\n",
        "  In\n",
        "  Not in\n",
        "\n",
        "\n",
        "*Variable:* Espacio en la memoria del ordenador donde se almacenara un valor que podra cambiar durante la ejecucion del programa.\n",
        "\n"
      ],
      "metadata": {
        "id": "Ls877UsW2ZSw"
      }
    },
    {
      "cell_type": "code",
      "source": [
        "5+6\n",
        "\n",
        "#Operador Módulo % resto de una división\n",
        "10%3\n",
        "\n",
        "5**3\n",
        "\n",
        "#División entera -> número entero de la división\n",
        "9//2"
      ],
      "metadata": {
        "colab": {
          "base_uri": "https://localhost:8080/"
        },
        "id": "zrJxWjW0U5Pu",
        "outputId": "8be65374-a605-4912-a4ca-5781a797e49f"
      },
      "execution_count": 4,
      "outputs": [
        {
          "output_type": "execute_result",
          "data": {
            "text/plain": [
              "4"
            ]
          },
          "metadata": {},
          "execution_count": 4
        }
      ]
    },
    {
      "cell_type": "code",
      "source": [
        "#Variables\n",
        "#Para unir variables con varias palabras usamos _ Ojo si hay distinción entre mayusculas y minusculas\n",
        "#Aqui en variables el tipo de dato se define por el contenido no por el continente, es decir, variable=5 será integer\n",
        "#En Python todo son objetos\n",
        "#Lo veremos ahora para ver el tipo de variable con la función type ()\n",
        "\n",
        "nombre = 5\n",
        "type(nombre)\n",
        "#Aqui da int integer\n",
        "\n",
        "nombre=\"Sergio\"\n",
        "type(nombre)\n",
        "#Aqui da str stringer\n",
        "\n",
        "nombre = 5.2\n",
        "type(nombre)\n",
        "#Aqui da float decimal\n",
        "\n",
        "#OJO LOS DECIMALES SON PUNTOS NO COMAS\n",
        "\n",
        "#Uso de tres comillas\n",
        "mensaje=\"\"\"Esto es un mensaje\n",
        "con tres saltos\n",
        "de línea\"\"\"\n",
        "\n",
        "print(mensaje)\n",
        "\n",
        "#Comparadores\n",
        "numero1=5\n",
        "numero2=7\n",
        "\n",
        "if numero1 > numero2:\n",
        "  print(\"numero1 es mayor\")\n",
        "else:\n",
        "  print(\"numero2 es mayor\")\n",
        "\n",
        "\n",
        "#Operador = es de asignación y el operador == es de comparación\n",
        "numero1==numero2"
      ],
      "metadata": {
        "colab": {
          "base_uri": "https://localhost:8080/"
        },
        "id": "7JBFYYM8VaWW",
        "outputId": "1aec422f-9048-46ef-922f-c05ee7df71ea"
      },
      "execution_count": 15,
      "outputs": [
        {
          "output_type": "stream",
          "name": "stdout",
          "text": [
            "Esto es un mensaje\n",
            "con tres saltos\n",
            "de línea\n",
            "numero2 es mayor\n"
          ]
        },
        {
          "output_type": "execute_result",
          "data": {
            "text/plain": [
              "False"
            ]
          },
          "metadata": {},
          "execution_count": 15
        }
      ]
    }
  ]
}