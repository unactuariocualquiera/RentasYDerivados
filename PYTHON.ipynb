{
  "nbformat": 4,
  "nbformat_minor": 0,
  "metadata": {
    "colab": {
      "name": "Untitled3.ipynb",
      "provenance": [],
      "authorship_tag": "ABX9TyNtd8hGhHLnbZPewagfsM+/",
      "include_colab_link": true
    },
    "kernelspec": {
      "name": "python3",
      "display_name": "Python 3"
    },
    "language_info": {
      "name": "python"
    }
  },
  "cells": [
    {
      "cell_type": "markdown",
      "metadata": {
        "id": "view-in-github",
        "colab_type": "text"
      },
      "source": [
        "<a href=\"https://colab.research.google.com/github/unactuariocualquiera/RentasYDerivados/blob/main/PYTHON.ipynb\" target=\"_parent\"><img src=\"https://colab.research.google.com/assets/colab-badge.svg\" alt=\"Open In Colab\"/></a>"
      ]
    },
    {
      "cell_type": "code",
      "execution_count": null,
      "metadata": {
        "id": "o4BeDrMYvjoQ"
      },
      "outputs": [],
      "source": [
        ""
      ]
    },
    {
      "cell_type": "markdown",
      "source": [
        "Curso Python"
      ],
      "metadata": {
        "id": "t1RxZQ08vtMr"
      }
    },
    {
      "cell_type": "markdown",
      "source": [
        "# **Introducción:**\n",
        "\n",
        "  Marcas en pantalla - Programa ZoomIt\n",
        "  Grabación de video - Programa Camtasia Studio\n",
        "\n",
        "IDE (entorno de desarrollo) para proyectos grandes\n",
        "\n",
        "Lenguaje de bajo nivel se refiere a lenguaje que mas se asemeja al de una máquina que se acerca a 1 y 0... Lenguaje de alto nivel se refiere a aquel que se asemeja mas al texto de lenguaje normal.\n",
        "\n",
        "Python es un lenguaje de muy alto nivel. \"Si sabes inglés sabes programar en Python\"\n",
        "\n",
        "Tipado dinámico y fuerte. Fuerte es que hace distinción muy clara entre los distintos tipos que tiene una variable. Dinámico quiere decir que se establece el tipo de forma dinámica (no es necesario declarar la variable antes como en C++)\n",
        "\n",
        "Lenguaje orientado a objetos: constructor, herencia múltiple,...\n",
        "\n",
        "Open Source : Codigo abierto\n",
        "\n",
        "Instalación: python.org/downloads\n",
        "2Gb ram\n",
        "Espacio disco 10gb \n",
        "En la instalacion trae un IDLE que es un entorno de desarrollador que al abrirlo vemos que es una consola al fin y al cabo. \n",
        "Otros entornos:\n",
        "  Eclipse\n",
        "  Notepad++\n",
        "  SublimeText3\n",
        "\n",
        "\n"
      ],
      "metadata": {
        "id": "PpXAFHV7vvXR"
      }
    },
    {
      "cell_type": "markdown",
      "source": [
        "# **SINTÁXIS BASICA**\n",
        "\n"
      ],
      "metadata": {
        "id": "c7X6Od531g1z"
      }
    }
  ]
}