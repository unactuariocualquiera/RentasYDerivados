{
  "nbformat": 4,
  "nbformat_minor": 0,
  "metadata": {
    "colab": {
      "name": "Estrategia Cóndor.ipynb",
      "provenance": [],
      "authorship_tag": "ABX9TyP/VxbNeDm6plKcShL0Nt6+",
      "include_colab_link": true
    },
    "kernelspec": {
      "name": "python3",
      "display_name": "Python 3"
    },
    "language_info": {
      "name": "python"
    }
  },
  "cells": [
    {
      "cell_type": "markdown",
      "metadata": {
        "id": "view-in-github",
        "colab_type": "text"
      },
      "source": [
        "<a href=\"https://colab.research.google.com/github/unactuariocualquiera/RentasYDerivados/blob/main/Estrategia_C%C3%B3ndor.ipynb\" target=\"_parent\"><img src=\"https://colab.research.google.com/assets/colab-badge.svg\" alt=\"Open In Colab\"/></a>"
      ]
    },
    {
      "cell_type": "markdown",
      "source": [
        "#Estrategia Cóndor\n",
        "\n",
        "## En este código vamos a realizar una estrategia Cóndor de manera automática (ya sea de compra o venta) y lo representaremos \n",
        "\n",
        "\n",
        "---\n",
        "\n",
        "### **!! ATENCIÓN !!** Para cambiar de compra a venta o viceversa hay que modificar el parámetro de entrada indicado en el código"
      ],
      "metadata": {
        "id": "Fjy7xWZddorR"
      }
    },
    {
      "cell_type": "code",
      "execution_count": 42,
      "metadata": {
        "colab": {
          "base_uri": "https://localhost:8080/",
          "height": 358
        },
        "id": "sfdabFHWWhAs",
        "outputId": "caa2b0d1-b72d-4390-d995-9d669ae24da6"
      },
      "outputs": [
        {
          "output_type": "stream",
          "name": "stdout",
          "text": [
            "[ 2  2  2  2  2  2  2  2  2  2  2  1  0 -1 -2 -3 -4 -5 -6 -7 -8 -8 -8 -8\n",
            " -8 -8 -8 -8 -8 -8 -8 -7 -6 -5 -4 -3 -2 -1  0  1  2  2  2  2  2  2  2  2\n",
            "  2  2]\n",
            "[80, 81, 82, 83, 84, 85, 86, 87, 88, 89, 90, 91, 92, 93, 94, 95, 96, 97, 98, 99, 100, 101, 102, 103, 104, 105, 106, 107, 108, 109, 110, 111, 112, 113, 114, 115, 116, 117, 118, 119, 120, 121, 122, 123, 124, 125, 126, 127, 128, 129]\n"
          ]
        },
        {
          "output_type": "display_data",
          "data": {
            "text/plain": [
              "<Figure size 432x288 with 1 Axes>"
            ],
            "image/png": "[encoded data removed]"
          },
          "metadata": {
            "needs_background": "light"
          }
        }
      ],
      "source": [
        "#Importamos las librerías necesarias\n",
        "import numpy as np\n",
        "import matplotlib.pyplot as plt  \n",
        "\n",
        "\n",
        "#**!!ATENCIÓN!!** Parámetro variable:\n",
        "    # Si la decisión es de compra -> \"Compra\"\n",
        "    # Si la decisión es de venta -> \"Venta\"  \n",
        "Decision = \"Compra\"\n",
        "\n",
        "#Precio de ejercicio para cada punto de corte:\n",
        "E_A = 90\n",
        "E_B = 100\n",
        "E_C = 110\n",
        "E_D = 120\n",
        "\n",
        "#Prima para cada punto de corte:\n",
        "Prima_A = 2\n",
        "Prima_B = 1\n",
        "Prima_C = 1\n",
        "Prima_D = 2\n",
        "\n",
        "#Cantidad de opciones:\n",
        "NumA = 1\n",
        "NumB = 1\n",
        "NumC = 1\n",
        "NumD = 1\n",
        "\n",
        "#Activo Subyacente\n",
        "AS = 10\n",
        "S = [*range(E_A - AS, E_D + AS)]\n",
        "S\n",
        "\n",
        "#Vectores para almacenar resultados\n",
        "A = [0]*len(S)\n",
        "B = [0]*len(S)\n",
        "C = [0]*len(S)\n",
        "D = [0]*len(S)\n",
        "\n",
        "#Establecemos las secuencias condicionales:\n",
        "\n",
        "for i in range(0, len(S)):\n",
        "  if S[i] < E_A:\n",
        "    A[i] = 0 - Prima_A\n",
        "  else:\n",
        "    A[i] = S[i] - E_A - Prima_A\n",
        "\n",
        "for i in range(0, len(S)):\n",
        "  if S[i] < E_B:\n",
        "    B[i] = 0 - Prima_B\n",
        "  else:\n",
        "    B[i] = S[i] - E_B - Prima_B\n",
        "\n",
        "for i in range(0, len(S)):\n",
        "  if S[i] < E_C:\n",
        "    C[i] = 0 - Prima_C\n",
        "  else:\n",
        "    C[i] = S[i] - E_C - Prima_C\n",
        "\n",
        "for i in range(0, len(S)):\n",
        "  if S[i] < E_D:\n",
        "    D[i] = 0 - Prima_D\n",
        "  else:\n",
        "    D[i] = S[i] - E_D - Prima_D\n",
        "\n",
        "A = np.array(A)\n",
        "B = np.array(B)\n",
        "C = np.array(C)\n",
        "D = np.array(D)\n",
        "\n",
        "#Introducimos la alternativa de compra/venta de la opción\n",
        "if Decision == \"Compra\":\n",
        "  A = A * NumA\n",
        "  B = B * NumB * -1\n",
        "  C = C * NumC * -1\n",
        "  D = D * NumD\n",
        "  \n",
        "else:\n",
        "  A = A * NumA * -1\n",
        "  B = B * NumB\n",
        "  C = C * NumC\n",
        "  D = D * NumD * -1\n",
        "\n",
        "#Sumamos los resultados para obtener el total\n",
        "Total = A + B + C + D\n",
        "print(Total)\n",
        "print(S)\n",
        "\n",
        "#Obtenemos el gráfico de la estrategia seleccionada:\n",
        "  #Cóndor comprado\n",
        "  #Cóndor vendido\n",
        "\n",
        "from matplotlib import pyplot\n",
        "pyplot.plot(S, Total)\n",
        "\n",
        "pyplot.axhline(0, color=\"black\")\n",
        "pyplot.axvline(0, color=\"black\")\n",
        "\n",
        "pyplot.xlim(70, 140)\n",
        "pyplot.ylim(-10, 10)\n",
        "\n",
        "pyplot.show()\n",
        "\n"
      ]
    }
  ]
}