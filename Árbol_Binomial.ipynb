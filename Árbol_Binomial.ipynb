{
  "nbformat": 4,
  "nbformat_minor": 0,
  "metadata": {
    "colab": {
      "name": "Árbol Binomial.ipynb",
      "provenance": [],
      "authorship_tag": "ABX9TyMKPjHtbjSwY+hZg4SZG/kZ",
      "include_colab_link": true
    },
    "kernelspec": {
      "name": "python3",
      "display_name": "Python 3"
    },
    "language_info": {
      "name": "python"
    }
  },
  "cells": [
    {
      "cell_type": "markdown",
      "metadata": {
        "id": "view-in-github",
        "colab_type": "text"
      },
      "source": [
        "<a href=\"https://colab.research.google.com/github/unactuariocualquiera/RentasYDerivados/blob/main/%C3%81rbol_Binomial.ipynb\" target=\"_parent\"><img src=\"https://colab.research.google.com/assets/colab-badge.svg\" alt=\"Open In Colab\"/></a>"
      ]
    },
    {
      "cell_type": "code",
      "execution_count": null,
      "metadata": {
        "id": "MI32UiqsZhms"
      },
      "outputs": [],
      "source": [
        ""
      ]
    },
    {
      "cell_type": "markdown",
      "source": [
        "Árbol Binomial"
      ],
      "metadata": {
        "id": "kookc27AZioG"
      }
    },
    {
      "cell_type": "code",
      "source": [
        "import numpy as np\n",
        "from scipy.stats import binom \n",
        "def prima(tipo,spot,strik,anyos,n,tInt):\n",
        "  r=np.log(1+tInt)  #tanto instantáneo\n",
        "  T=anyos/n\n",
        "  u=1.25 \n",
        "  d=1/u \n",
        "  p=(np.exp(r*T)-d)/(u-d) \n",
        "  Sn=[0]*(n+1) #precios del activo subyacente\n",
        "  payoff=[0]*(n+1) #payoff\n",
        "  prima=0\n",
        "  for i in range(n+1):\n",
        "    Sn[i]=spot*u**(n-i)*d**i #Cálculo precio del activo subyacente e\n",
        "    if tipo.lower()=='call':\n",
        "      payoff[i]=max(0,Sn[i]-strik) \n",
        "    if tipo.lower()=='put':\n",
        "      payoff[i]=max(0,strik-Sn[i]) \n",
        "    prima+=payoff[i]*binom.pmf(n-i, n, p) \n",
        "  prima*=np.exp(-r*anyos) #descuento\n",
        "  return prima\n",
        "  \n",
        "m=6 #Cuenta nodos\n",
        "evolucion=[0]*m\n",
        "for j in range(m): \n",
        "  evolucion[j]=prima('call',100,100,1,j+1,0.05)\n",
        "\n",
        "print(prima('call',100,100,1,6,(0.05)))"
      ],
      "metadata": {
        "colab": {
          "base_uri": "https://localhost:8080/"
        },
        "id": "q0a1xAo3ZkTp",
        "outputId": "eb5fdf41-1b2a-46b7-f2e5-54e733828c2e"
      },
      "execution_count": 3,
      "outputs": [
        {
          "output_type": "stream",
          "name": "stdout",
          "text": [
            "22.630142107713404\n"
          ]
        }
      ]
    }
  ]
}